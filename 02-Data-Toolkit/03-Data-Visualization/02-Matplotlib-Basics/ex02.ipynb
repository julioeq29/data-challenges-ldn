{
 "cells": [
  {
   "cell_type": "markdown",
   "metadata": {},
   "source": [
    "# Matplotlib\n",
    "\n",
    "### Documentation\n",
    "\n",
    "[Pyplot - plt](https://matplotlib.org/3.1.1/api/_as_gen/matplotlib.pyplot.html#module-matplotlib.pyplot)"
   ]
  },
  {
   "cell_type": "code",
   "execution_count": 1,
   "metadata": {},
   "outputs": [],
   "source": [
    "import matplotlib.pyplot as plt\n",
    "import numpy as np"
   ]
  },
  {
   "cell_type": "markdown",
   "metadata": {},
   "source": [
    "### Preparing data for matplotlib\n",
    "\n",
    "You are given the following ordered list of points, which can't be passed directly to `pyplot`\n",
    "\n",
    "The goal is to **convert** the data in order for it to be usable by `pyplot`.\n",
    "\n",
    "You simply have to convert the list of dict to a list of lists. Then plot the points.\n",
    "\n",
    "Use `pyplot.plot()` to create a line plot."
   ]
  },
  {
   "cell_type": "code",
   "execution_count": null,
   "metadata": {},
   "outputs": [],
   "source": [
    "points = [\n",
    "    {\"x\": 1, \"y\": 1},\n",
    "    {\"x\": 2, \"y\": 2},\n",
    "    {\"x\": 4, \"y\": 2},\n",
    "    {\"x\": 3, \"y\": 1},\n",
    "    {\"x\": 1, \"y\": 1},\n",
    "    {\"x\": 1, \"y\": 3},\n",
    "    {\"x\": 3, \"y\": 3},\n",
    "    {\"x\": 3, \"y\": 1},\n",
    "    {\"x\": 3, \"y\": 3},\n",
    "    {\"x\": 4, \"y\": 4},\n",
    "    {\"x\": 4, \"y\": 2},\n",
    "    {\"x\": 4, \"y\": 4},\n",
    "    {\"x\": 2, \"y\": 4},\n",
    "    {\"x\": 2, \"y\": 2},\n",
    "    {\"x\": 2, \"y\": 4},\n",
    "    {\"x\": 1, \"y\": 3},\n",
    "]\n",
    "\n",
    "# Prepare points for plotting\n",
    "\n",
    "# Your plot here"
   ]
  },
  {
   "cell_type": "markdown",
   "metadata": {},
   "source": [
    "---\n",
    "\n",
    "New challenge: this time you are given a numpy array of **shape(100,2)**.\n",
    "\n",
    "Use `pyplot.scatter()` to plot these 100 points in a figure\n",
    "\n",
    "<details>\n",
    "  <summary>💡Hint</summary>\n",
    "  <p>Remember that numpy 2D-arrays can be conveniently accessed with my_array[row_slicer, col_slicer]</p>\n",
    "</details>"
   ]
  },
  {
   "cell_type": "code",
   "execution_count": 2,
   "metadata": {},
   "outputs": [],
   "source": [
    "dots = np.random.rand(100,2)\n",
    "\n",
    "# Your plot here\n"
   ]
  },
  {
   "cell_type": "markdown",
   "metadata": {},
   "source": [
    "### Plotting a function\n",
    "\n",
    "Generate data points in range `[-10,10]` and at even intervals: they are your `x` points. Use them to plot the following function:\n",
    "\n",
    "$$y = 4x + 2$$\n",
    "\n",
    "\n",
    "Use [plt.ylim](https://matplotlib.org/3.1.1/api/_as_gen/matplotlib.pyplot.ylim.html#matplotlib.pyplot.ylim) to keep the **y axis** between **-20 and 20**\n",
    "\n",
    "<details>\n",
    "  <summary>💡Hint</summary>\n",
    "      <p>You can use <code><a href=\"https://docs.scipy.org/doc/numpy/reference/generated/numpy.arange.html\">numpy.arange()</a></code> to generate list of N number in a range</p>\n",
    "</details>"
   ]
  },
  {
   "cell_type": "code",
   "execution_count": null,
   "metadata": {},
   "outputs": [],
   "source": [
    "# Create x\n",
    "\n",
    "# Create y\n",
    "\n",
    "# Your plot here\n"
   ]
  },
  {
   "cell_type": "markdown",
   "metadata": {},
   "source": [
    "Plot these 4 functions on the same graph, using the same set of `x's` generated above, keeping the **y axis** between **-2 and 6** and **x axis** between **-4 and 4**.\n",
    "\n",
    "$$y1 = x^2$$\n",
    "\n",
    "$$y2 = \\log x$$\n",
    "\n",
    "$$y3 = e^x$$\n",
    "\n",
    "$$y4 = \\frac{e^x}{e^x + 1}$$\n",
    "\n",
    "<details>\n",
    "  <summary>💡Hint</summary>\n",
    "    <p>You can use the python built-in function <b>map()</b></p>\n",
    "</details>"
   ]
  },
  {
   "cell_type": "code",
   "execution_count": null,
   "metadata": {},
   "outputs": [],
   "source": [
    "# Import math library\n",
    "\n",
    "# Create y1, y2, y3, y4\n",
    "\n",
    "# Your plot here\n"
   ]
  },
  {
   "cell_type": "markdown",
   "metadata": {},
   "source": [
    "### Formating basics\n",
    "\n",
    "We have the following **scatter plot**, we want to draw a **straight red dotted line** that follows the dots distribution as closely as possible.\n",
    "\n",
    "Visual example *without dotted line*:\n",
    "<img src=\"https://miro.medium.com/max/1280/1*LEmBCYAttxS6uI6rEyPLMQ.png\" alt=\"regression_line\" width=300>"
   ]
  },
  {
   "cell_type": "code",
   "execution_count": 3,
   "metadata": {},
   "outputs": [
    {
     "data": {
      "text/plain": [
       "<matplotlib.collections.PathCollection at 0x1198c1fd0>"
      ]
     },
     "execution_count": 3,
     "metadata": {},
     "output_type": "execute_result"
    },
    {
     "data": {
      "image/png": "[encoded data removed]",
      "text/plain": [
       "<Figure size 432x288 with 1 Axes>"
      ]
     },
     "metadata": {
      "needs_background": "light"
     },
     "output_type": "display_data"
    }
   ],
   "source": [
    "from sklearn import datasets\n",
    "\n",
    "x, y, _ = datasets.make_regression(n_samples=100, n_features=1, noise=10, coef=True, random_state=0)\n",
    "\n",
    "plt.scatter(x,y)"
   ]
  },
  {
   "cell_type": "markdown",
   "metadata": {},
   "source": [
    "Plot a line approximately regressing the scatter plot above (reuse x and y from the previous cell)"
   ]
  },
  {
   "cell_type": "code",
   "execution_count": null,
   "metadata": {},
   "outputs": [],
   "source": [
    "# YOUR PLOT HERE\n"
   ]
  },
  {
   "cell_type": "markdown",
   "metadata": {},
   "source": [
    "Now let's add some context to our graph by adding:\n",
    "1. A title with: \"Linear Regression\"\n",
    "1. A legend describing the data points and the line\n",
    "1. A label for the x (\"input value\") and y (\"output value\") axis\n",
    "\n",
    "Bonus: copy also this feature and try to understand the syntax (use shift-tab to call the docs)\n",
    "```python\n",
    "plt.annotate(\"Regression line\", (0,0), (1,-50), arrowprops={\"arrowstyle\":\"->\"})\n",
    "```"
   ]
  },
  {
   "cell_type": "code",
   "execution_count": null,
   "metadata": {},
   "outputs": [],
   "source": [
    "# YOUR PLOT HERE\n"
   ]
  },
  {
   "cell_type": "markdown",
   "metadata": {},
   "source": [
    "Let's continue to work on our plot design.\n",
    "\n",
    "Make the plot **15 inches wide** and **6 inch tall**. \n",
    "\n",
    "What you have to do is:\n",
    "1. Access the current figure object of the plot\n",
    "1. Set the size of the figure\n",
    "\n",
    "\n",
    "These documentation pages should be useful:\n",
    "1. [plt.gcf( )](https://matplotlib.org/3.1.1/api/_as_gen/matplotlib.pyplot.gcf.html#matplotlib.pyplot.gcf)\n",
    "1. [fig.set_figheight( )](https://matplotlib.org/3.1.1/api/_as_gen/matplotlib.figure.Figure.html#matplotlib.figure.Figure.set_figheight)\n",
    "\n"
   ]
  },
  {
   "cell_type": "code",
   "execution_count": null,
   "metadata": {},
   "outputs": [],
   "source": [
    "# YOUR CODE HERE\n"
   ]
  }
 ],
 "metadata": {
  "kernelspec": {
   "display_name": "Python 3",
   "language": "python",
   "name": "python3"
  },
  "language_info": {
   "codemirror_mode": {
    "name": "ipython",
    "version": 3
   },
   "file_extension": ".py",
   "mimetype": "text/x-python",
   "name": "python",
   "nbconvert_exporter": "python",
   "pygments_lexer": "ipython3",
   "version": "3.7.6"
  },
  "toc": {
   "base_numbering": 1,
   "nav_menu": {},
   "number_sections": false,
   "sideBar": true,
   "skip_h1_title": false,
   "title_cell": "Table of Contents",
   "title_sidebar": "Contents",
   "toc_cell": false,
   "toc_position": {},
   "toc_section_display": true,
   "toc_window_display": true
  },
  "varInspector": {
   "cols": {
    "lenName": 16,
    "lenType": 16,
    "lenVar": 40
   },
   "kernels_config": {
    "python": {
     "delete_cmd_postfix": "",
     "delete_cmd_prefix": "del ",
     "library": "var_list.py",
     "varRefreshCmd": "print(var_dic_list())"
    },
    "r": {
     "delete_cmd_postfix": ") ",
     "delete_cmd_prefix": "rm(",
     "library": "var_list.r",
     "varRefreshCmd": "cat(var_dic_list()) "
    }
   },
   "types_to_exclude": [
    "module",
    "function",
    "builtin_function_or_method",
    "instance",
    "_Feature"
   ],
   "window_display": false
  }
 },
 "nbformat": 4,
 "nbformat_minor": 4
}
