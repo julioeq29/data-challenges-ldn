{
 "cells": [
  {
   "cell_type": "markdown",
   "metadata": {},
   "source": [
    "# Deep Learning week - Day 4 - Exercise 2\n",
    "\n",
    "In this exercise, we will use stock market values that you have observed over some days or weeks, and from them, you will try to predict the stock market value in the future. \n",
    "\n",
    "\n",
    "# The data\n",
    "\n",
    "The correct way to do that is to consider different stock market values, where the first sequence corresponds to the values of the company A, the second to the company B, etc etc. Loading so many data and fitting neural networks on them might require some preprocessing and some time to train. \n",
    "\n",
    "Therefore, we will here do a bit differently. We will take a unique stock market value, and we will select some part of it, as each part corresponded to a given stock-market (the problem is that each part is not independant from the other, but let's assume they are for the sake of the exercise).\n",
    "\n",
    "❓ **Question** ❓ Run the following functions - we will use the `Middle` column as the stock market price"
   ]
  },
  {
   "cell_type": "code",
   "execution_count": 7,
   "metadata": {},
   "outputs": [
    {
     "data": {
      "image/png": "[encoded data removed]",
      "text/plain": [
       "<Figure size 432x288 with 1 Axes>"
      ]
     },
     "metadata": {
      "needs_background": "light"
     },
     "output_type": "display_data"
    }
   ],
   "source": [
    "import pandas as pd\n",
    "import matplotlib.pyplot as plt\n",
    "%matplotlib inline\n",
    "\n",
    "df = pd.read_csv('data/aa.us.txt')\n",
    "df = df.sort_values('Date')\n",
    "\n",
    "df['Middle'] = (df['High'] + df['Low'])/2.\n",
    "\n",
    "data = df['Middle'].values\n",
    "\n",
    "plt.plot(data)\n",
    "plt.show()"
   ]
  },
  {
   "cell_type": "markdown",
   "metadata": {},
   "source": [
    "❓ **Question** ❓ Normalize the data (just divide by the mean value) and plot the histogram of the resulting value to  check that they are somehow close to 0 / 1. "
   ]
  },
  {
   "cell_type": "code",
   "execution_count": 4,
   "metadata": {},
   "outputs": [],
   "source": [
    "# YOUR PLOT HERE"
   ]
  },
  {
   "cell_type": "markdown",
   "metadata": {},
   "source": [
    "# Data preprocessing\n",
    "\n",
    "Out of this very long time-series, we will subsample it into shorter samples, each corresponding to one sequence of data $X_i$ with its corresponding prediction $y_i$.\n",
    "\n",
    "We will use the following function to get this random sample.\n",
    "\n",
    "❓ **Question** ❓ Run the function with different `length` an `temporal_horizon` to see what it does."
   ]
  },
  {
   "cell_type": "code",
   "execution_count": 81,
   "metadata": {},
   "outputs": [],
   "source": [
    "def get_sample(data, length, temporal_horizon):\n",
    "\n",
    "    temporal_horizon = temporal_horizon - 1\n",
    "    last_possible = len(data) - temporal_horizon - length\n",
    "    random_start = np.random.randint(0, last_possible)\n",
    "    X_sample = data[random_start: random_start+length]\n",
    "    X_sample = [[_] for _ in X_sample]\n",
    "    \n",
    "    \n",
    "    y_sample = data[random_start+length+temporal_horizon]\n",
    "        \n",
    "    return X_sample, y_sample\n",
    "\n",
    "\n",
    "# YOUR CODE HERE"
   ]
  },
  {
   "cell_type": "markdown",
   "metadata": {},
   "source": [
    "Note:\n",
    "- `length` corresponds to the lenght of the observed sequence\n",
    "- `temporal_horizon` corresponds to the number of day between your last seen stock market value and the day you are trying to predict.\n",
    "\n",
    "❗ **Remark 1**:❗ The first list is a list of list as the last dimension should be the size of an observation, which here is of size 1.\n",
    "\n",
    "For instance, get_sample(data, 100, 3) returns a first list of 100 stock market values, and a second value which is the stock market value 3 days after the last seen value.\n",
    "\n",
    "# Dataset construction\n",
    "\n",
    "The previous function creates a sample $(X_i, y_i)$. If we repeat this operation, we will get multiple samples, that once concatenated will correspond to our entire dataset $(X, y)$.\n",
    "\n",
    "Let's do that.\n",
    "\n",
    "❓ **Question** ❓ Write a function `get_X_y(data, temporal_horizon, length_of_sequences)` that create this dataset.\n",
    "- `data` corresponds to your input data\n",
    "- `temporal_horizon` is the number of days between the last seen value and the predicted one\n",
    "- `length_of_sequences` is a list that corresponds to the length of each sample $X_i$: `[len(X_1), len(X_2), len(X_3), ..., ]` as that each sequence $X_i$ has no reason to be of the same length as the other one.\n",
    "\n",
    "Hint: This function should use `get_sample`\n",
    "\n",
    "❗ **Remark 1**:❗ `y` has to be an array, `X` is a list."
   ]
  },
  {
   "cell_type": "code",
   "execution_count": 15,
   "metadata": {},
   "outputs": [],
   "source": [
    "def get_X_y(data, temporal_horizon, length_of_sequences):\n",
    "    \n",
    "    # YOUR CODE HERE\n",
    "    \n",
    "    return X, y"
   ]
  },
  {
   "cell_type": "markdown",
   "metadata": {},
   "source": [
    "❓ **Question** ❓ Create a dataset `(X, y)` that contains 1000 sequences, each corresponding to 20 to 24 (included) seen days, to predict the stock market in 3 days.\n",
    "\n",
    "Hint: You can use the `numpy.random.randint` function"
   ]
  },
  {
   "cell_type": "code",
   "execution_count": null,
   "metadata": {},
   "outputs": [],
   "source": [
    "# YOUR CODE HERE"
   ]
  },
  {
   "cell_type": "code",
   "execution_count": null,
   "metadata": {},
   "outputs": [],
   "source": []
  },
  {
   "cell_type": "markdown",
   "metadata": {},
   "source": [
    "❓ **Question** ❓ Pad your sequence (in `X_pad`) in order to have a shape equal to (1000, 24) for X. Don't forget to use the correct argument values."
   ]
  },
  {
   "cell_type": "code",
   "execution_count": null,
   "metadata": {},
   "outputs": [],
   "source": [
    "# YOUR CODE HERE"
   ]
  },
  {
   "cell_type": "markdown",
   "metadata": {},
   "source": [
    "❓ **Question** ❓ Split the dataset into train and test set (70/30 ratio). "
   ]
  },
  {
   "cell_type": "code",
   "execution_count": null,
   "metadata": {},
   "outputs": [],
   "source": [
    "# YOUR CODE HERE"
   ]
  },
  {
   "cell_type": "markdown",
   "metadata": {},
   "source": [
    "❓ **Question** ❓ Write a function that gathers all the previous steps: \n",
    "- The generation of $(X, y)$\n",
    "- The padding\n",
    "- The train/test split"
   ]
  },
  {
   "cell_type": "code",
   "execution_count": null,
   "metadata": {},
   "outputs": [],
   "source": [
    "def generate_data(data, temporal_horizon, length_of_sequences):\n",
    "    \n",
    "    # YOUR CODE HERE\n",
    "    \n",
    "    return X_train, X_test, y_train, y_test"
   ]
  },
  {
   "cell_type": "markdown",
   "metadata": {},
   "source": [
    "❓ **Question** ❓  Use this function to generate data with a temporal horizon of 2 days, and 1000 time-series of 50 to 70 seen days ."
   ]
  },
  {
   "cell_type": "code",
   "execution_count": null,
   "metadata": {},
   "outputs": [],
   "source": [
    "# YOUR CODE HERE"
   ]
  },
  {
   "cell_type": "markdown",
   "metadata": {},
   "source": [
    "❓ **Question** ❓ Initialize and compile a RNN that has :\n",
    "\n",
    "- A initial Masrking\n",
    "- A LSTM layer with 10 units => Remember the TANH activation function\n",
    "- A fully connected layer\n",
    "\n",
    "Compile the model with the `rmsprop` optimizer.\n"
   ]
  },
  {
   "cell_type": "code",
   "execution_count": null,
   "metadata": {},
   "outputs": [],
   "source": [
    "def init_model():\n",
    "    \n",
    "    # YOUR CODE HERE\n",
    "    \n",
    "    return model"
   ]
  },
  {
   "cell_type": "markdown",
   "metadata": {},
   "source": [
    "❓ **Question** ❓ Fit the model \n",
    "\n",
    "- First initialize the model\n",
    "- Then initialize the early stopping criterion\n",
    "- Then, fit on the training data (do not forget the validation split) (batch_size of 32)\n",
    "\n",
    "❗ **Remark 1**:❗ Store the `fit` result in `history`"
   ]
  },
  {
   "cell_type": "code",
   "execution_count": null,
   "metadata": {},
   "outputs": [],
   "source": [
    "# YOUR CODE HERE"
   ]
  },
  {
   "cell_type": "markdown",
   "metadata": {},
   "source": [
    "❗ **Remark 1**:❗ Be sure you hit the Stopping Criteria \n",
    "\n",
    "❓ **Question** ❓ Given the next plot function, look at the loss and the MAE (add the `mae` to the model if not done yet)"
   ]
  },
  {
   "cell_type": "code",
   "execution_count": 139,
   "metadata": {},
   "outputs": [],
   "source": [
    "def plot_loss(history):\n",
    "    plt.plot(history.history['loss'])\n",
    "    plt.plot(history.history['val_loss'])\n",
    "    plt.title('Model loss')\n",
    "    plt.ylabel('Mean Square Error - Loss')\n",
    "    plt.xlabel('Epoch')\n",
    "    plt.legend(['Train', 'Validation'], loc='best')\n",
    "    plt.show()\n",
    "    \n",
    "    plt.plot(history.history['mae'])\n",
    "    plt.plot(history.history['val_mae'])\n",
    "    plt.title('Model loss')\n",
    "    plt.ylabel('Mean Absolute Error')\n",
    "    plt.xlabel('Epoch')\n",
    "    plt.legend(['Train', 'Validation'], loc='best')\n",
    "    plt.show()\n",
    "    \n",
    "    \n",
    "# YOUR PLOT HERE"
   ]
  },
  {
   "cell_type": "markdown",
   "metadata": {},
   "source": [
    "❓ **Question** ❓ Is this a good or bad final accuracy?\n",
    "\n",
    "\n",
    "Well ... How can you know? You can guess. But it is better to have a data-driven result. You should (almost) **always** have a **benchmark** value you should compare to. Otherwise, you optimize things without knowing if you are above straighforward benchmark algorithm.\n",
    "\n",
    "❗ **Remark 1**:❗ **_REGRESSION_** The usual benchmark prediction is to predict `np.mean(y_train)` \n",
    "\n",
    "❗ **Remark 2**:❗ **_CLASSIFICATION_** The usual benchmark for a random prediction is usually 1./number_of_classes\n",
    "\n",
    "here, let's compare to the following benchmark: the constant prediction. Your prediction of $y_i$ should be the last seen value of your sequence $X_i$\n",
    "\n",
    "❓ **Question** ❓ Write a function compute the mean absolute error of the constant prediction, i.e. the fact that your prediction corresponds to the last seen value. \n",
    "\n",
    "❗ **Remark 1**:❗ Don't forget that X might be padded with values (as 0) that you do not have to take into account"
   ]
  },
  {
   "cell_type": "code",
   "execution_count": null,
   "metadata": {},
   "outputs": [],
   "source": [
    "def benchmark_prediction(X, y):\n",
    "\n",
    "    # YOUR CODE HERE"
   ]
  },
  {
   "cell_type": "markdown",
   "metadata": {},
   "source": [
    "❓ **Question** ❓ Compare the model evaluated on the test set to the accuracy of the constant prediction. Conclusion?"
   ]
  },
  {
   "cell_type": "code",
   "execution_count": 1,
   "metadata": {},
   "outputs": [],
   "source": [
    "# YOUR CODE HERE"
   ]
  },
  {
   "cell_type": "markdown",
   "metadata": {},
   "source": [
    "# Optional #1\n",
    "\n",
    "The previous setting was quite favorable:\n",
    "- a large number of days: 50 to 70\n",
    "- a few days in the future: 2\n",
    "- a large number of sequences: 1000\n",
    "\n",
    "In the following, you can try to change this parameters to see how the Neural network prediction gets when\n",
    "- the number of seen days is lower\n",
    "- the temporal horizon is higher\n",
    "- the number of sequences is smaller.\n",
    "\n",
    "❗ **Remark **:❗ Try to present your results in a visual way as if you had to report your results to someone - a TA for instance."
   ]
  },
  {
   "cell_type": "code",
   "execution_count": null,
   "metadata": {},
   "outputs": [],
   "source": []
  },
  {
   "cell_type": "code",
   "execution_count": null,
   "metadata": {},
   "outputs": [],
   "source": []
  },
  {
   "cell_type": "code",
   "execution_count": null,
   "metadata": {},
   "outputs": [],
   "source": []
  },
  {
   "cell_type": "markdown",
   "metadata": {},
   "source": [
    "# Optional #2:\n",
    "\n",
    "You can improve your results by:\n",
    "- changing the hyperparameters of the LSTM\n",
    "- using the GRU network\n",
    "- stack multiple RNN layers"
   ]
  },
  {
   "cell_type": "code",
   "execution_count": null,
   "metadata": {},
   "outputs": [],
   "source": []
  },
  {
   "cell_type": "code",
   "execution_count": null,
   "metadata": {},
   "outputs": [],
   "source": []
  },
  {
   "cell_type": "code",
   "execution_count": null,
   "metadata": {},
   "outputs": [],
   "source": []
  }
 ],
 "metadata": {
  "kernelspec": {
   "display_name": "Python 3",
   "language": "python",
   "name": "python3"
  },
  "language_info": {
   "codemirror_mode": {
    "name": "ipython",
    "version": 3
   },
   "file_extension": ".py",
   "mimetype": "text/x-python",
   "name": "python",
   "nbconvert_exporter": "python",
   "pygments_lexer": "ipython3",
   "version": "3.7.7"
  },
  "toc": {
   "base_numbering": 1,
   "nav_menu": {},
   "number_sections": false,
   "sideBar": true,
   "skip_h1_title": false,
   "title_cell": "Table of Contents",
   "title_sidebar": "Contents",
   "toc_cell": false,
   "toc_position": {},
   "toc_section_display": true,
   "toc_window_display": false
  }
 },
 "nbformat": 4,
 "nbformat_minor": 2
}
