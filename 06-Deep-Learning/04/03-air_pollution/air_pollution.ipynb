{
 "cells": [
  {
   "cell_type": "markdown",
   "metadata": {},
   "source": [
    "# Deep Learning week - Day 4 - Exercise 3 \n",
    "\n",
    "Let's use the new RNN Ninja skills on new data.\n",
    "\n",
    "Here, we will try to predict the future pollution (measured as a number of particules) given a sequence of weather features. In the previous exercise, the observation was one-dimensional (one value per time-step). Here, you have multiple features (pressure, temperature, ...) per time-point.\n",
    "\n",
    "As the exercise is very similar to the previous one, less help is given. This can happen in real-life problems where you will always be able to get back to Le Wagon exercise to copy-paste what you have done to start working.\n",
    "\n",
    "\n",
    "<hr><hr>\n",
    "\n",
    "# The data\n",
    "\n",
    "Among the features, you have : \n",
    "- pm2.5: PM2.5 concentration\n",
    "- DEWP: Dew Point\n",
    "- TEMP: Temperature\n",
    "- PRES: Pressure\n",
    "- cbwd: Combined wind direction\n",
    "- Iws: Cumulated wind speed\n",
    "- Is: Cumulated hours of snow\n",
    "- Ir: Cumulated hours of rain\n",
    "\n",
    "\n",
    "The first one, pm2.5 corresponds to the pollution level you are trying to predict (this corresponds to the number of particles with a special diameter).\n",
    "\n",
    "❓ **Question** ❓ Load the data `data.txt` - use the first column as the index of a panda Dataframe"
   ]
  },
  {
   "cell_type": "code",
   "execution_count": null,
   "metadata": {},
   "outputs": [],
   "source": [
    "# YOUR CODE HERE"
   ]
  },
  {
   "cell_type": "markdown",
   "metadata": {},
   "source": [
    "❓ **Question** ❓ Plot some of the weather features"
   ]
  },
  {
   "cell_type": "code",
   "execution_count": null,
   "metadata": {},
   "outputs": [],
   "source": [
    "# YOUR PLOT HERE"
   ]
  },
  {
   "cell_type": "markdown",
   "metadata": {},
   "source": [
    "❓ **Question** ❓ Write a first function that, given the dataframe `df`, a `length` of seen days and a` temporal_horizon` until the predicted day, outputs `X_sample` and `y_sample` where `X_sample` is a sequence of weather measurements and `y_sample` is the pollution to predict\n",
    "\n",
    "❗ **Remark**:❗ You can select any weather feature you want - you can change them later on as well. \n",
    "\n",
    "❗ **Remark**:❗ There are some missing values in the `pm2.5` column. Therefore, you musth check that the output is not empty!"
   ]
  },
  {
   "cell_type": "code",
   "execution_count": null,
   "metadata": {},
   "outputs": [],
   "source": [
    "def get_sample(df, length, temporal_horizon):\n",
    "\n",
    "    # YOUR CODE HERE\n",
    "    \n",
    "    return X_sample, y_sample"
   ]
  },
  {
   "cell_type": "markdown",
   "metadata": {},
   "source": [
    "❓ **Question** ❓ Thanks to the previous function, write another function that generates the dataset $(X, y)$ given a dataframe `df`, a `temporal_horizon` to the day to predict and a list `list_of_sequences` where each element corresponds to the number of seen days in the corresponding sample.\n"
   ]
  },
  {
   "cell_type": "code",
   "execution_count": null,
   "metadata": {},
   "outputs": [],
   "source": [
    "# YOUR CODE HERE"
   ]
  },
  {
   "cell_type": "markdown",
   "metadata": {},
   "source": [
    "❓ **Question** ❓ Generate 100 sequences, each having a length between 10 and 15 (included), predicting the pollution 3 days after the last seen day. Then pad your inputs."
   ]
  },
  {
   "cell_type": "code",
   "execution_count": null,
   "metadata": {},
   "outputs": [],
   "source": [
    "# YOUR CODE HERE"
   ]
  },
  {
   "cell_type": "markdown",
   "metadata": {},
   "source": [
    "❓ **Question** ❓ Check the shape of your inputs should be (100, 15, NUMBER_OF_FEATURES_YOU_SELECTED)"
   ]
  },
  {
   "cell_type": "code",
   "execution_count": null,
   "metadata": {},
   "outputs": [],
   "source": [
    "# YOUR CODE HERE"
   ]
  },
  {
   "cell_type": "markdown",
   "metadata": {},
   "source": [
    "❓ **Question** ❓ Write a function given a dataframe, a temporal horizon and a list of sequence length outputs the padded train and test set"
   ]
  },
  {
   "cell_type": "code",
   "execution_count": null,
   "metadata": {},
   "outputs": [],
   "source": [
    "# YOUR CODE HERE"
   ]
  },
  {
   "cell_type": "markdown",
   "metadata": {},
   "source": [
    "❓ **Question** ❓ Generate the train and test set from 2000 sequences, each having a length between 10 and 15 (included), predicting the pollution 3 days after the last seen day. "
   ]
  },
  {
   "cell_type": "code",
   "execution_count": null,
   "metadata": {},
   "outputs": [],
   "source": [
    "# YOUR CODE HERE"
   ]
  },
  {
   "cell_type": "markdown",
   "metadata": {},
   "source": [
    "❓ **Question** ❓ Initialize a model the way you want and compile it. _TRY_ to do it, before looking at the previous exercise."
   ]
  },
  {
   "cell_type": "code",
   "execution_count": null,
   "metadata": {},
   "outputs": [],
   "source": [
    "def init_model():\n",
    "    # YOUR CODE HERE"
   ]
  },
  {
   "cell_type": "markdown",
   "metadata": {},
   "source": [
    "❓ **Question** ❓ Fit your model (do not forget the validation part), plot the results and test it on the test data"
   ]
  },
  {
   "cell_type": "code",
   "execution_count": null,
   "metadata": {},
   "outputs": [],
   "source": [
    "# YOUR CODE HERE"
   ]
  },
  {
   "cell_type": "code",
   "execution_count": null,
   "metadata": {},
   "outputs": [],
   "source": [
    "# YOUR PLOT HERE"
   ]
  },
  {
   "cell_type": "code",
   "execution_count": null,
   "metadata": {},
   "outputs": [],
   "source": [
    "# YOUR CODE HERE"
   ]
  },
  {
   "cell_type": "markdown",
   "metadata": {},
   "source": [
    "❓ **Question** ❓ Compare your prediction to a benchmark prediction"
   ]
  },
  {
   "cell_type": "code",
   "execution_count": null,
   "metadata": {},
   "outputs": [],
   "source": [
    "# YOUR CODE HERE"
   ]
  },
  {
   "cell_type": "markdown",
   "metadata": {},
   "source": [
    "❓ **Question** ❓ Play around with the parameters to see how your model behave when :\n",
    "- you change the number of sequences\n",
    "- you change the number of seen days\n",
    "- you change the temporal horizon\n"
   ]
  },
  {
   "cell_type": "code",
   "execution_count": null,
   "metadata": {},
   "outputs": [],
   "source": []
  },
  {
   "cell_type": "markdown",
   "metadata": {},
   "source": [
    "❓ **Question** ❓ This time, draw some data `X, y` and use a real cross-validation to report the score on the test set"
   ]
  },
  {
   "cell_type": "code",
   "execution_count": null,
   "metadata": {},
   "outputs": [],
   "source": []
  },
  {
   "cell_type": "markdown",
   "metadata": {},
   "source": [
    "❓ **Question** ❓ Change the model and/or the features you use to improve your prediction"
   ]
  },
  {
   "cell_type": "code",
   "execution_count": null,
   "metadata": {},
   "outputs": [],
   "source": []
  }
 ],
 "metadata": {
  "kernelspec": {
   "display_name": "Python 3",
   "language": "python",
   "name": "python3"
  },
  "language_info": {
   "codemirror_mode": {
    "name": "ipython",
    "version": 3
   },
   "file_extension": ".py",
   "mimetype": "text/x-python",
   "name": "python",
   "nbconvert_exporter": "python",
   "pygments_lexer": "ipython3",
   "version": "3.7.7"
  },
  "toc": {
   "base_numbering": 1,
   "nav_menu": {},
   "number_sections": false,
   "sideBar": true,
   "skip_h1_title": false,
   "title_cell": "Table of Contents",
   "title_sidebar": "Contents",
   "toc_cell": false,
   "toc_position": {},
   "toc_section_display": true,
   "toc_window_display": false
  }
 },
 "nbformat": 4,
 "nbformat_minor": 2
}
