{
 "cells": [
  {
   "cell_type": "markdown",
   "metadata": {},
   "source": [
    "# SARIMA forecast"
   ]
  },
  {
   "cell_type": "markdown",
   "metadata": {},
   "source": [
    "## 01 - Background\n",
    "\n",
    "Our goal in this challenge is to apply the basic concepts of time series analysis on one-dimension data (sales depending on the date).\n",
    "\n",
    "In this challenge, we'll go through the following steps : \n",
    "1. load and visualize the data;\n",
    "2. train our models and make predictions;\n",
    "3. use an econometric approach to model the serie and be able to forecast it;\n",
    "4. use machine learning to hack this modelization.\n",
    "\n",
    "The dataset is loaded from [this url]( https://raw.githubusercontent.com/jbrownlee/Datasets/master/monthly_champagne_sales.csv). We provide you the code to read the csv from an url. "
   ]
  },
  {
   "cell_type": "markdown",
   "metadata": {},
   "source": [
    "## 02 - Load Data\n",
    "Let's start by loading the time series of the challenge (data/monthly_champagne_sales.csv)"
   ]
  },
  {
   "cell_type": "code",
   "execution_count": 59,
   "metadata": {},
   "outputs": [],
   "source": []
  },
  {
   "attachments": {
    "image.png": {
     "image/png": "[encoded data removed]"
    }
   },
   "cell_type": "markdown",
   "metadata": {},
   "source": [
    "👉 Convert dataframe with datetime objects as index to make it look like this\n",
    "![image.png](attachment:image.png)"
   ]
  },
  {
   "cell_type": "code",
   "execution_count": null,
   "metadata": {},
   "outputs": [],
   "source": []
  },
  {
   "cell_type": "markdown",
   "metadata": {},
   "source": [
    "## 02 - Visualize and interpet the data"
   ]
  },
  {
   "cell_type": "markdown",
   "metadata": {},
   "source": [
    "Well done, thanks to this \"reindexing\", you should now be able to plot the \"Sales\" (y-axis) as a function of the time (x-axis) easily"
   ]
  },
  {
   "cell_type": "code",
   "execution_count": null,
   "metadata": {},
   "outputs": [],
   "source": []
  },
  {
   "cell_type": "markdown",
   "metadata": {},
   "source": [
    "If your code is correct, you should be able to see that this Time Serie (TS) is:\n",
    "- Not stationary (mean and variance are not constant).\n",
    "- Exhibits strong seasonality.\n",
    "- Seems to have a trend.\n",
    "\n",
    "Let's see a decomposition of the data between **trend**, **saisonality** and **noise**. In order to do that, you have to make use of statsmodels [`seasonal_decompose`](https://www.statsmodels.org/stable/generated/statsmodels.tsa.seasonal.seasonal_decompose.html). Read the docs and make sure you understand what this function is doing and how to use it. Then:\n",
    "1. plot the \"Sales\" with an \"additive\" model\n",
    "2. plot the \"Sales\" with a \"multiplicative\" model\n",
    "\n",
    "Pro tips: end your statsmodels plot method calls with a `;` to avoid double-plotting issues"
   ]
  },
  {
   "cell_type": "code",
   "execution_count": 62,
   "metadata": {},
   "outputs": [],
   "source": [
    "from statsmodels.tsa.seasonal import seasonal_decompose"
   ]
  },
  {
   "cell_type": "markdown",
   "metadata": {},
   "source": [
    "## 03 - Split the data (train/test)\n",
    "We'll now try to forecast the data."
   ]
  },
  {
   "cell_type": "markdown",
   "metadata": {},
   "source": [
    "For time series, we cannot randomly sample points to be in the test set. The test set needs to be \"out-of-time\", that is, strictly in the future of the test set. For the purpose of this exercise, we will use data up to 1971 for training and after for the test.\n",
    "\n",
    "👉 Your task:\n",
    "\n",
    "- create `df_train` and `df_test`, splitting the DataFrame before 1971 for the training and after (or equal to) for the testing\n",
    "- Keep the indexes of the two sets in variable called `train_indexes` and `test_indexes`.\n",
    "- check the shape of the training and testing dataset"
   ]
  },
  {
   "cell_type": "code",
   "execution_count": null,
   "metadata": {},
   "outputs": [],
   "source": []
  },
  {
   "cell_type": "markdown",
   "metadata": {},
   "source": [
    "## 04 - SARIMA\n",
    "We will analyse the data using a SARIMA model (Seasonal Auto Regressive Integrated Moving Average).\n",
    "\n",
    "\n",
    "We need to :\n",
    "- find how to stationarize the time serie (I in SARIMA)\n",
    "- find the auto-regressive (AR) part\n",
    "- find the Moving-Average (MA) part\n",
    "- find the seasonality (S)"
   ]
  },
  {
   "cell_type": "markdown",
   "metadata": {},
   "source": [
    "### Step 1: Check stationarity\n",
    "\n",
    "If a time series has a trend or seasonality component, it must be made stationary before we can use ARIMA to forecast.\n",
    "\n",
    "A quick glance at the plot above should be sufficient to convince you that the time serie is not stationary.\n",
    "\n",
    "Double check the stationarity of `df[\"Sales\"]` using the [`Augmented Dick Fuller test`](https://www.statsmodels.org/stable/generated/statsmodels.tsa.stattools.adfuller.html) and especially its p-value"
   ]
  },
  {
   "cell_type": "code",
   "execution_count": null,
   "metadata": {},
   "outputs": [],
   "source": [
    "from statsmodels.tsa.stattools import adfuller\n",
    "# your code here"
   ]
  },
  {
   "cell_type": "markdown",
   "metadata": {},
   "source": [
    "The p-value should be less than 0.05 to have a 95% confidence in the stationarity.  \n",
    "\n",
    "If the p-value is larger than 0.05, we cannot reject the null hypothesis (null hypothesis = \"the process is not stationary\").\n",
    "\n",
    "Ideally, p is *much* smaller than 0.05.\n",
    "\n",
    "Another way to look for stationarity, is to look at the autocorrelation function (ACF).\n",
    "\n",
    "Plot the ACF of the time series. You should see a large peak at lag 12, indicating strong yearly seasonality."
   ]
  },
  {
   "cell_type": "code",
   "execution_count": null,
   "metadata": {},
   "outputs": [],
   "source": [
    "from statsmodels.graphics.tsaplots import plot_acf, plot_pacf\n",
    "# Your code here"
   ]
  },
  {
   "cell_type": "markdown",
   "metadata": {},
   "source": [
    "### Step 2 - Seasonality\n",
    "\n",
    "We have a strong seasonality with a period of 12 months.\n",
    "\n",
    "Do a difference of lag 12 of the series, plot the differenced data and check the ACF and ADF again.\n",
    "\n",
    "Don't forget to drop NaN's."
   ]
  },
  {
   "cell_type": "code",
   "execution_count": null,
   "metadata": {},
   "outputs": [],
   "source": []
  },
  {
   "cell_type": "markdown",
   "metadata": {},
   "source": [
    "This gives us our parameters D=1 and m=12 for SARIMA (seasonal differencing order and seasonal period)"
   ]
  },
  {
   "cell_type": "markdown",
   "metadata": {},
   "source": [
    "### Step 3 - Differencing\n",
    "\n",
    "If the time series is not stationary, it needs to be stationarized through *differencing*. It means that we take the difference between each value and the preceding one (*first difference*). Repeat if you want the *second difference*, etc...\n",
    "\n",
    "Do we need further differencing after removing the seasonality?\n",
    "\n",
    "Check the ACF and ADF after running an additional first order difference on your diff(12) series.\n",
    "\n",
    "Again, don't forget the NaN's.\n"
   ]
  },
  {
   "cell_type": "code",
   "execution_count": null,
   "metadata": {},
   "outputs": [],
   "source": []
  },
  {
   "cell_type": "markdown",
   "metadata": {},
   "source": [
    "Additional differencing actually made both the p-value and the ACF look worse! "
   ]
  },
  {
   "cell_type": "markdown",
   "metadata": {},
   "source": [
    "### Step 4 - Select AR and MA terms\n",
    "\n",
    "You will now use the ACF and PACF plots to decide whether to include an AR term(s), MA term(s), or both.\n",
    "\n",
    "\n",
    "\n"
   ]
  },
  {
   "cell_type": "markdown",
   "metadata": {},
   "source": [
    "- The autocorrelation plot ([`plot_acf`](https://www.statsmodels.org/stable/generated/statsmodels.graphics.tsaplots.plot_acf.html)) applied to`df_train[\"Sales\"]` allows you to select MA number (`q`)\n",
    "\n",
    "- The partial autocorrelation plot [`plot_pacf`](https://www.statsmodels.org/stable/generated/statsmodels.graphics.tsaplots.plot_pacf.html) applied to `df_train[\"Sales\"]` allows you to select AR (`p`)\n"
   ]
  },
  {
   "cell_type": "code",
   "execution_count": null,
   "metadata": {},
   "outputs": [],
   "source": []
  },
  {
   "cell_type": "markdown",
   "metadata": {},
   "source": [
    "It seems like there are no significant peaks in either ACF or PACF, so most likely p=q=0."
   ]
  },
  {
   "cell_type": "markdown",
   "metadata": {},
   "source": [
    "Our first guess is that d=0, p=q=0, D=1 and m=12.\n",
    "\n",
    "[Here](https://www.datasciencecentral.com/profiles/blogs/tutorial-forecasting-with-seasonal-arima) are some rules of thumb on how to pick m, P, D and Q (the seasonal parameters):\n",
    "\n",
    "Mostly, we will try values 1 and 0 for P and Q, but let's have auto_arima do a grid_search for us.\n",
    "\n",
    "Run [auto_arima](https://alkaline-ml.com/pmdarima/modules/generated/pmdarima.arima.auto_arima.html) for the training set. set seasonal=True, m=12 and D=1.\n",
    "\n",
    "Search for p and q, P and Q from 0 to 2. \n",
    "\n",
    "Then, print the summary of the model with model.summary()."
   ]
  },
  {
   "cell_type": "code",
   "execution_count": null,
   "metadata": {},
   "outputs": [],
   "source": [
    "import pmdarima as pm\n",
    "#Your code here"
   ]
  },
  {
   "cell_type": "markdown",
   "metadata": {},
   "source": [
    "Use model.predict with n_periods of the length of the test set and plot the training set, the test set and the prediction in the same graph. \n",
    "\n",
    "If you can, also plot the confidence interval (model.predict will return that as well).\n",
    "\n",
    "Copy code from the previous ARIMA exercise if you want."
   ]
  },
  {
   "cell_type": "code",
   "execution_count": null,
   "metadata": {},
   "outputs": [],
   "source": []
  },
  {
   "cell_type": "markdown",
   "metadata": {},
   "source": [
    "As you can see there is a downward trend in the actual data that our model fails to predict.\n",
    "\n",
    "Use model.plot_diagnostics to look if the residuals look like they have any pattern left in them"
   ]
  },
  {
   "cell_type": "code",
   "execution_count": null,
   "metadata": {},
   "outputs": [],
   "source": []
  },
  {
   "cell_type": "markdown",
   "metadata": {},
   "source": [
    "## OPTIONAL - Machine Learning Approach"
   ]
  },
  {
   "cell_type": "markdown",
   "metadata": {},
   "source": [
    "We will now fit a non linear model such as a random forest. The idea is to predict a value from the last ones. You will try to create new columns in `df` that are shifted version of `df['Sales']`. Do it with a shift from 1 to 12.\n"
   ]
  },
  {
   "cell_type": "code",
   "execution_count": 36,
   "metadata": {},
   "outputs": [],
   "source": []
  },
  {
   "cell_type": "markdown",
   "metadata": {},
   "source": [
    "Create a random forest algorithm and use only the shifted version of the time series that you just created. You can use the following function to test it. It takes the true y values (`data` which should be a Numpy array), the indexes of the test samples (`test_indexes`), the predictor (`predictor`: your random forest algorithm) and the shifted columns (`full_X` which should be a Numpy array)."
   ]
  },
  {
   "cell_type": "code",
   "execution_count": 37,
   "metadata": {},
   "outputs": [],
   "source": [
    "# For each predictor, design a method to evaluate its performance on the test set:\n",
    "def evaluate_performance_month_prediction_lm_rf(data, test_indexes, predictor, full_X):\n",
    "    predictions = []\n",
    "    ground_truth = []\n",
    "    i = 0\n",
    "    for _indx in test_indexes:\n",
    "        train_data = data[:_indx]\n",
    "        current_ground_truth = data[_indx]\n",
    "        current_ground_truth_features = full_X[_indx,:]\n",
    "        train_features = full_X[:_indx]\n",
    "        predictor.fit(train_features, train_data)\n",
    "        prediction = predictor.predict(current_ground_truth_features.reshape(1,-1))[0]\n",
    "        predictions.append(prediction)\n",
    "        ground_truth.append(current_ground_truth)\n",
    "        i += 1\n",
    "    rmse = np.sqrt(mean_squared_error(ground_truth, predictions))\n",
    "    return ground_truth, predictions, rmse"
   ]
  },
  {
   "cell_type": "code",
   "execution_count": 38,
   "metadata": {},
   "outputs": [],
   "source": []
  },
  {
   "cell_type": "markdown",
   "metadata": {},
   "source": [
    "To improve our model, we can do some feature engineering. You will add moving averages to the data used to train the random forest.\n",
    "\n",
    "Try to create 3 new columnns in `df`: one which is the rolling average of `df[Sales]` with a window of 12, one with a window of 3, and one with a window of 2. This will have the effect to isolate the trend and allow the algorithm to learn it. Also, plot these data.\n"
   ]
  },
  {
   "cell_type": "code",
   "execution_count": 42,
   "metadata": {},
   "outputs": [],
   "source": []
  },
  {
   "cell_type": "markdown",
   "metadata": {},
   "source": [
    "You can also add a more smoothing predictor using the exponential moving average (hint: method `.ewm` with `halflife` of 2, 3 and 12), that statistically optimizes an AR process. Plot also the data."
   ]
  },
  {
   "cell_type": "code",
   "execution_count": 44,
   "metadata": {},
   "outputs": [],
   "source": []
  },
  {
   "cell_type": "markdown",
   "metadata": {},
   "source": [
    "You should see a better RMSE!"
   ]
  },
  {
   "cell_type": "markdown",
   "metadata": {},
   "source": [
    "Try to look at the importance of each feature. What do you find?\n"
   ]
  },
  {
   "cell_type": "code",
   "execution_count": null,
   "metadata": {},
   "outputs": [],
   "source": []
  }
 ],
 "metadata": {
  "kernelspec": {
   "display_name": "Python 3",
   "language": "python",
   "name": "python3"
  },
  "language_info": {
   "codemirror_mode": {
    "name": "ipython",
    "version": 3
   },
   "file_extension": ".py",
   "mimetype": "text/x-python",
   "name": "python",
   "nbconvert_exporter": "python",
   "pygments_lexer": "ipython3",
   "version": "3.7.7"
  },
  "toc": {
   "base_numbering": 1,
   "nav_menu": {},
   "number_sections": false,
   "sideBar": true,
   "skip_h1_title": false,
   "title_cell": "Table of Contents",
   "title_sidebar": "Contents",
   "toc_cell": false,
   "toc_position": {},
   "toc_section_display": true,
   "toc_window_display": true
  },
  "varInspector": {
   "cols": {
    "lenName": 16,
    "lenType": 16,
    "lenVar": 40
   },
   "kernels_config": {
    "python": {
     "delete_cmd_postfix": "",
     "delete_cmd_prefix": "del ",
     "library": "var_list.py",
     "varRefreshCmd": "print(var_dic_list())"
    },
    "r": {
     "delete_cmd_postfix": ") ",
     "delete_cmd_prefix": "rm(",
     "library": "var_list.r",
     "varRefreshCmd": "cat(var_dic_list()) "
    }
   },
   "types_to_exclude": [
    "module",
    "function",
    "builtin_function_or_method",
    "instance",
    "_Feature"
   ],
   "window_display": false
  }
 },
 "nbformat": 4,
 "nbformat_minor": 4
}
